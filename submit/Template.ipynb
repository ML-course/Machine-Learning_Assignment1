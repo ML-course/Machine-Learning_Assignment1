{
 "cells": [
  {
   "cell_type": "code",
   "execution_count": 1,
   "metadata": {
    "execution": {
     "iopub.execute_input": "2022-02-25T16:32:44.319688Z",
     "iopub.status.busy": "2022-02-25T16:32:44.318806Z",
     "iopub.status.idle": "2022-02-25T16:33:19.501134Z",
     "shell.execute_reply": "2022-02-25T16:33:19.501432Z"
    },
    "tags": [
     "hide_input"
    ]
   },
   "outputs": [],
   "source": [
    "%%capture\n",
    "# DO NOT EDIT THIS NOTEBOOK\n",
    "# It generates a report to verify your submission\n",
    "import solution\n",
    "import time\n",
    "import sys\n",
    "start_verify = time.time()\n",
    "import matplotlib.pyplot as plt\n",
    "plt.rcParams[\"figure.figsize\"] = (10,3)\n",
    "\n",
    "# Key variables\n",
    "X = solution.X\n",
    "y = solution.y\n",
    "data_classes = solution.data_classes\n",
    "\n",
    "# For cleaner compilation\n",
    "import warnings\n",
    "import os\n",
    "if not sys.warnoptions:\n",
    "    warnings.simplefilter(\"ignore\")\n",
    "    os.environ[\"PYTHONWARNINGS\"] = \"ignore\""
   ]
  },
  {
   "cell_type": "markdown",
   "metadata": {},
   "source": [
    "### ML Engineering - Assignment 1"
   ]
  },
  {
   "cell_type": "code",
   "execution_count": 2,
   "metadata": {
    "execution": {
     "iopub.execute_input": "2022-02-25T16:33:19.504189Z",
     "iopub.status.busy": "2022-02-25T16:33:19.503837Z",
     "iopub.status.idle": "2022-02-25T16:33:19.508957Z",
     "shell.execute_reply": "2022-02-25T16:33:19.509175Z"
    },
    "tags": [
     "hide_input"
    ]
   },
   "outputs": [
    {
     "name": "stdout",
     "output_type": "stream",
     "text": [
      "Name: Nien, Ting Yu\n"
     ]
    }
   ],
   "source": [
    "print(\"Name:\",solution.your_name)"
   ]
  },
  {
   "cell_type": "markdown",
   "metadata": {},
   "source": [
    "#### Answer 1.1 (1p)"
   ]
  },
  {
   "cell_type": "code",
   "execution_count": 3,
   "metadata": {
    "execution": {
     "iopub.execute_input": "2022-02-25T16:33:19.511045Z",
     "iopub.status.busy": "2022-02-25T16:33:19.510745Z",
     "iopub.status.idle": "2022-02-25T16:33:19.511920Z",
     "shell.execute_reply": "2022-02-25T16:33:19.512167Z"
    },
    "tags": [
     "hide_input"
    ]
   },
   "outputs": [],
   "source": [
    "solution.evaluate_LR(X,y,1)"
   ]
  },
  {
   "cell_type": "markdown",
   "metadata": {},
   "source": [
    "#### Answer 1.2 (1p)"
   ]
  },
  {
   "cell_type": "code",
   "execution_count": 4,
   "metadata": {
    "execution": {
     "iopub.execute_input": "2022-02-25T16:33:19.513912Z",
     "iopub.status.busy": "2022-02-25T16:33:19.513591Z",
     "iopub.status.idle": "2022-02-25T16:33:19.515070Z",
     "shell.execute_reply": "2022-02-25T16:33:19.514880Z"
    },
    "tags": [
     "hide_input"
    ]
   },
   "outputs": [],
   "source": [
    "solution.plot_curve(X,y)"
   ]
  },
  {
   "cell_type": "markdown",
   "metadata": {},
   "source": [
    "#### Answer 1.3 (1p)"
   ]
  },
  {
   "cell_type": "code",
   "execution_count": 5,
   "metadata": {
    "execution": {
     "iopub.execute_input": "2022-02-25T16:33:19.517312Z",
     "iopub.status.busy": "2022-02-25T16:33:19.516950Z",
     "iopub.status.idle": "2022-02-25T16:33:19.518449Z",
     "shell.execute_reply": "2022-02-25T16:33:19.518633Z"
    },
    "tags": [
     "hide_input"
    ]
   },
   "outputs": [
    {
     "name": "stdout",
     "output_type": "stream",
     "text": [
      "H : No answer\n"
     ]
    }
   ],
   "source": [
    "mc = {\"A\": \"Underfitting at C=1e-6, overfitting at C=100.\",\n",
    "      \"B\": \"Overfitting at C=1e-6, underfitting at C=100.\",\n",
    "      \"C\": \"Neither underfitting nor overfitting at C=1e-6, overfitting at C=100.\",\n",
    "      \"D\": \"Neither underfitting nor overfitting at C=1e-6, underfitting at C=100.\",\n",
    "      \"E\": \"Overfitting at C=1e-6, neither underfitting nor overfitting at C=100.\",\n",
    "      \"F\": \"Underfitting at C=1e-6, neither underfitting nor overfitting at C=100.\",\n",
    "      \"G\": \"Neither underfitting nor overfitting at both values for C.\",\n",
    "      \"H\": \"No answer\"}\n",
    "a = solution.q_1_3\n",
    "if a in mc:\n",
    "    print(a,\":\",mc[a])\n",
    "else:\n",
    "    print(\"Invalid response!\")"
   ]
  },
  {
   "cell_type": "markdown",
   "metadata": {},
   "source": [
    "#### Answer 2.1 (2p)"
   ]
  },
  {
   "cell_type": "code",
   "execution_count": 6,
   "metadata": {
    "execution": {
     "iopub.execute_input": "2022-02-25T16:33:19.520256Z",
     "iopub.status.busy": "2022-02-25T16:33:19.519969Z",
     "iopub.status.idle": "2022-02-25T16:33:19.521191Z",
     "shell.execute_reply": "2022-02-25T16:33:19.521383Z"
    },
    "tags": [
     "hide_input"
    ]
   },
   "outputs": [],
   "source": [
    "solution.plot_tsu_coefficients(X,y)"
   ]
  },
  {
   "cell_type": "markdown",
   "metadata": {},
   "source": [
    "#### Answer 2.2 (1p)"
   ]
  },
  {
   "cell_type": "code",
   "execution_count": 7,
   "metadata": {
    "execution": {
     "iopub.execute_input": "2022-02-25T16:33:19.523297Z",
     "iopub.status.busy": "2022-02-25T16:33:19.522966Z",
     "iopub.status.idle": "2022-02-25T16:33:19.524261Z",
     "shell.execute_reply": "2022-02-25T16:33:19.524498Z"
    },
    "tags": [
     "hide_input"
    ]
   },
   "outputs": [
    {
     "name": "stdout",
     "output_type": "stream",
     "text": [
      "\n",
      "        Your answer \n",
      "        \n",
      "Answer is 11 characters long\n"
     ]
    }
   ],
   "source": [
    "print(solution.q_2_2)\n",
    "print(\"Answer is {} characters long\".format(len(solution.q_2_2.strip())))"
   ]
  },
  {
   "cell_type": "markdown",
   "metadata": {},
   "source": [
    "#### Answer 3.1 (2p)"
   ]
  },
  {
   "cell_type": "code",
   "execution_count": 8,
   "metadata": {
    "execution": {
     "iopub.execute_input": "2022-02-25T16:33:19.526213Z",
     "iopub.status.busy": "2022-02-25T16:33:19.525885Z",
     "iopub.status.idle": "2022-02-25T16:33:19.527201Z",
     "shell.execute_reply": "2022-02-25T16:33:19.526971Z"
    },
    "tags": [
     "hide_input"
    ]
   },
   "outputs": [],
   "source": [
    "solution.plot_mistakes(X,y)"
   ]
  },
  {
   "cell_type": "markdown",
   "metadata": {},
   "source": [
    "#### Answer 3.2 (1p)"
   ]
  },
  {
   "cell_type": "code",
   "execution_count": 9,
   "metadata": {
    "execution": {
     "iopub.execute_input": "2022-02-25T16:33:19.529048Z",
     "iopub.status.busy": "2022-02-25T16:33:19.528714Z",
     "iopub.status.idle": "2022-02-25T16:33:19.529788Z",
     "shell.execute_reply": "2022-02-25T16:33:19.530108Z"
    },
    "tags": [
     "hide_input"
    ]
   },
   "outputs": [
    {
     "name": "stdout",
     "output_type": "stream",
     "text": [
      "\n",
      "        Your answer \n",
      "        \n",
      "Answer is 11 characters long\n"
     ]
    }
   ],
   "source": [
    "print(solution.q_3_2)\n",
    "print(\"Answer is {} characters long\".format(len(solution.q_3_2.strip())))"
   ]
  },
  {
   "cell_type": "markdown",
   "metadata": {},
   "source": [
    "#### Answer 4 (1p)"
   ]
  },
  {
   "cell_type": "code",
   "execution_count": 10,
   "metadata": {
    "execution": {
     "iopub.execute_input": "2022-02-25T16:33:19.531822Z",
     "iopub.status.busy": "2022-02-25T16:33:19.531542Z",
     "iopub.status.idle": "2022-02-25T16:33:19.532787Z",
     "shell.execute_reply": "2022-02-25T16:33:19.532597Z"
    },
    "tags": [
     "hide_input"
    ]
   },
   "outputs": [],
   "source": [
    "solution.predict_characters(X, y, solution.temple_data)"
   ]
  },
  {
   "cell_type": "markdown",
   "metadata": {},
   "source": [
    "#### Answer 5.1 (1p bonus)"
   ]
  },
  {
   "cell_type": "code",
   "execution_count": 11,
   "metadata": {
    "execution": {
     "iopub.execute_input": "2022-02-25T16:33:19.534435Z",
     "iopub.status.busy": "2022-02-25T16:33:19.534141Z",
     "iopub.status.idle": "2022-02-25T16:33:19.535177Z",
     "shell.execute_reply": "2022-02-25T16:33:19.535330Z"
    },
    "tags": [
     "hide_input"
    ]
   },
   "outputs": [],
   "source": [
    "solution.plot_hog_features(X,y)"
   ]
  },
  {
   "cell_type": "markdown",
   "metadata": {},
   "source": [
    "#### Answer 5.2 (1p bonus)"
   ]
  },
  {
   "cell_type": "code",
   "execution_count": 12,
   "metadata": {
    "execution": {
     "iopub.execute_input": "2022-02-25T16:33:19.536991Z",
     "iopub.status.busy": "2022-02-25T16:33:19.536685Z",
     "iopub.status.idle": "2022-02-25T16:33:19.537881Z",
     "shell.execute_reply": "2022-02-25T16:33:19.538101Z"
    },
    "tags": [
     "hide_input"
    ]
   },
   "outputs": [],
   "source": [
    "solution.evaluate_hog_lr(X,y)"
   ]
  },
  {
   "cell_type": "code",
   "execution_count": 13,
   "metadata": {
    "execution": {
     "iopub.execute_input": "2022-02-25T16:33:19.540105Z",
     "iopub.status.busy": "2022-02-25T16:33:19.539770Z",
     "iopub.status.idle": "2022-02-25T16:33:19.540969Z",
     "shell.execute_reply": "2022-02-25T16:33:19.541207Z"
    },
    "tags": [
     "hide_input"
    ]
   },
   "outputs": [
    {
     "name": "stdout",
     "output_type": "stream",
     "text": [
      "Running time: 0.63 seconds\n",
      "Last modified: February 25, 2022\n",
      "scikit-learn version: 1.0.2\n"
     ]
    }
   ],
   "source": [
    "end_verify = time.time()\n",
    "print(\"Running time: {:.2f} seconds\".format(end_verify - start_verify))\n",
    "print(\"Last modified: {}\".format(solution.last_edit))\n",
    "print(\"scikit-learn version: {0}\".format(solution.sklearn_version))"
   ]
  }
 ],
 "metadata": {
  "kernelspec": {
   "display_name": "Python 3 (ipykernel)",
   "language": "python",
   "name": "python3"
  },
  "language_info": {
   "codemirror_mode": {
    "name": "ipython",
    "version": 3
   },
   "file_extension": ".py",
   "mimetype": "text/x-python",
   "name": "python",
   "nbconvert_exporter": "python",
   "pygments_lexer": "ipython3",
   "version": "3.9.10"
  },
  "toc-autonumbering": false,
  "toc-showcode": true,
  "toc-showmarkdowntxt": true,
  "toc-showtags": false
 },
 "nbformat": 4,
 "nbformat_minor": 4
}
